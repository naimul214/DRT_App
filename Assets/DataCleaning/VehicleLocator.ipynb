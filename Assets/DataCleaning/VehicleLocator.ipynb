{
 "cells": [
  {
   "cell_type": "code",
   "execution_count": null,
   "metadata": {},
   "outputs": [],
   "source": [
    "#Importing required libraries:\n",
    "import os\n",
    "import requests\n",
    "import pandas as pd\n",
    "import pytz  # For timezone handling\n",
    "from datetime import datetime, timedelta\n",
    "import warnings\n",
    "from urllib3.exceptions import InsecureRequestWarning\n",
    "import json\n",
    "from google.transit import gtfs_realtime_pb2"
   ]
  },
  {
   "cell_type": "code",
   "execution_count": null,
   "metadata": {},
   "outputs": [],
   "source": [
    "# Read the routes.txt file\n",
    "file_path = \"/workspaces/DRT_App/Assets/Data/Routes.txt\" \n",
    "cr_df = pd.read_csv(file_path)\n",
    "cr_df.head(20)"
   ]
  },
  {
   "cell_type": "code",
   "execution_count": null,
   "metadata": {},
   "outputs": [],
   "source": [
    "route_name = ''\n",
    "route_id = ''"
   ]
  },
  {
   "cell_type": "code",
   "execution_count": null,
   "metadata": {},
   "outputs": [],
   "source": [
    "# Read the Towards.txt file\n",
    "file_path = \"../data/Towards.txt\" \n",
    "sd_df = pd.read_csv(file_path)\n",
    "sd_df.head(20)"
   ]
  },
  {
   "cell_type": "code",
   "execution_count": 42,
   "metadata": {},
   "outputs": [
    {
     "data": {
      "text/html": [
       "<div>\n",
       "<style scoped>\n",
       "    .dataframe tbody tr th:only-of-type {\n",
       "        vertical-align: middle;\n",
       "    }\n",
       "\n",
       "    .dataframe tbody tr th {\n",
       "        vertical-align: top;\n",
       "    }\n",
       "\n",
       "    .dataframe thead th {\n",
       "        text-align: right;\n",
       "    }\n",
       "</style>\n",
       "<table border=\"1\" class=\"dataframe\">\n",
       "  <thead>\n",
       "    <tr style=\"text-align: right;\">\n",
       "      <th></th>\n",
       "      <th>route_id</th>\n",
       "      <th>trip_id</th>\n",
       "      <th>trip_headsign</th>\n",
       "      <th>direction_id</th>\n",
       "    </tr>\n",
       "  </thead>\n",
       "  <tbody>\n",
       "    <tr>\n",
       "      <th>24</th>\n",
       "      <td>302</td>\n",
       "      <td>3077__201011_Timetable_-_2025-02</td>\n",
       "      <td>B - Anderson</td>\n",
       "      <td>0</td>\n",
       "    </tr>\n",
       "    <tr>\n",
       "      <th>25</th>\n",
       "      <td>302</td>\n",
       "      <td>1576__201023_Timetable_-_2025-02</td>\n",
       "      <td>North Campus</td>\n",
       "      <td>0</td>\n",
       "    </tr>\n",
       "    <tr>\n",
       "      <th>26</th>\n",
       "      <td>302</td>\n",
       "      <td>1581__261026_Timetable_-_2025-02</td>\n",
       "      <td>Whitby Station</td>\n",
       "      <td>1</td>\n",
       "    </tr>\n",
       "  </tbody>\n",
       "</table>\n",
       "</div>"
      ],
      "text/plain": [
       "   route_id                           trip_id   trip_headsign  direction_id\n",
       "24      302  3077__201011_Timetable_-_2025-02    B - Anderson             0\n",
       "25      302  1576__201023_Timetable_-_2025-02    North Campus             0\n",
       "26      302  1581__261026_Timetable_-_2025-02  Whitby Station             1"
      ]
     },
     "execution_count": 42,
     "metadata": {},
     "output_type": "execute_result"
    }
   ],
   "source": [
    "display = sd_df[(sd_df[\"route_id\"] == route_id)]\n",
    "\n",
    "display"
   ]
  },
  {
   "cell_type": "code",
   "execution_count": 43,
   "metadata": {},
   "outputs": [],
   "source": [
    "towards = ''\n",
    "trip_headsign = ''"
   ]
  },
  {
   "cell_type": "code",
   "execution_count": 41,
   "metadata": {},
   "outputs": [
    {
     "data": {
      "text/html": [
       "<div>\n",
       "<style scoped>\n",
       "    .dataframe tbody tr th:only-of-type {\n",
       "        vertical-align: middle;\n",
       "    }\n",
       "\n",
       "    .dataframe tbody tr th {\n",
       "        vertical-align: top;\n",
       "    }\n",
       "\n",
       "    .dataframe thead th {\n",
       "        text-align: right;\n",
       "    }\n",
       "</style>\n",
       "<table border=\"1\" class=\"dataframe\">\n",
       "  <thead>\n",
       "    <tr style=\"text-align: right;\">\n",
       "      <th></th>\n",
       "      <th>id</th>\n",
       "      <th>route_id</th>\n",
       "      <th>latitude</th>\n",
       "      <th>longitude</th>\n",
       "      <th>speed</th>\n",
       "      <th>timestamp</th>\n",
       "    </tr>\n",
       "  </thead>\n",
       "  <tbody>\n",
       "    <tr>\n",
       "      <th>0</th>\n",
       "      <td>6109</td>\n",
       "      <td>N1</td>\n",
       "      <td>43.876751</td>\n",
       "      <td>-78.956253</td>\n",
       "      <td>None</td>\n",
       "      <td>1742715195</td>\n",
       "    </tr>\n",
       "    <tr>\n",
       "      <th>1</th>\n",
       "      <td>7120</td>\n",
       "      <td>N1</td>\n",
       "      <td>43.812866</td>\n",
       "      <td>-79.123650</td>\n",
       "      <td>None</td>\n",
       "      <td>1742715215</td>\n",
       "    </tr>\n",
       "    <tr>\n",
       "      <th>2</th>\n",
       "      <td>7124</td>\n",
       "      <td>N1</td>\n",
       "      <td>43.961102</td>\n",
       "      <td>-78.838501</td>\n",
       "      <td>None</td>\n",
       "      <td>1742715243</td>\n",
       "    </tr>\n",
       "    <tr>\n",
       "      <th>3</th>\n",
       "      <td>8573</td>\n",
       "      <td>N2</td>\n",
       "      <td>43.897335</td>\n",
       "      <td>-78.865898</td>\n",
       "      <td>None</td>\n",
       "      <td>1742715184</td>\n",
       "    </tr>\n",
       "    <tr>\n",
       "      <th>4</th>\n",
       "      <td>8578</td>\n",
       "      <td>N2</td>\n",
       "      <td>43.955383</td>\n",
       "      <td>-78.899651</td>\n",
       "      <td>None</td>\n",
       "      <td>1742715230</td>\n",
       "    </tr>\n",
       "  </tbody>\n",
       "</table>\n",
       "</div>"
      ],
      "text/plain": [
       "     id route_id   latitude  longitude speed   timestamp\n",
       "0  6109       N1  43.876751 -78.956253  None  1742715195\n",
       "1  7120       N1  43.812866 -79.123650  None  1742715215\n",
       "2  7124       N1  43.961102 -78.838501  None  1742715243\n",
       "3  8573       N2  43.897335 -78.865898  None  1742715184\n",
       "4  8578       N2  43.955383 -78.899651  None  1742715230"
      ]
     },
     "execution_count": 41,
     "metadata": {},
     "output_type": "execute_result"
    }
   ],
   "source": [
    "GTFS_URL = \"https://drtonline.durhamregiontransit.com/gtfsrealtime/VehiclePositions\"\n",
    "\n",
    "# Fetch the GTFS-Realtime feed\n",
    "response = requests.get(GTFS_URL)\n",
    "if response.status_code != 200:\n",
    "    print(f\"❌ Failed to fetch data. HTTP Status: {response.status_code}\")\n",
    "    exit()\n",
    "\n",
    "# Parse GTFS-Realtime feed\n",
    "feed = gtfs_realtime_pb2.FeedMessage()\n",
    "feed.ParseFromString(response.content)\n",
    "\n",
    "# Convert to DataFrame\n",
    "vehicles = []\n",
    "for entity in feed.entity:\n",
    "    if entity.HasField(\"vehicle\"):\n",
    "        vehicle = entity.vehicle\n",
    "        vehicles.append({\n",
    "            \"id\": vehicle.vehicle.id,\n",
    "            \"route_id\": vehicle.trip.route_id,\n",
    "            \"latitude\": vehicle.position.latitude,\n",
    "            \"longitude\": vehicle.position.longitude,\n",
    "            \"speed\": vehicle.position.speed if vehicle.position.HasField(\"speed\") else None,\n",
    "            \"timestamp\": vehicle.timestamp\n",
    "        })\n",
    "\n",
    "df = pd.DataFrame(vehicles)\n",
    "df.head()  # Show first few rows"
   ]
  },
  {
   "cell_type": "code",
   "execution_count": 44,
   "metadata": {},
   "outputs": [],
   "source": [
    "# Function to process and filter Vehicles data\n",
    "def process_vehicles_data(vehicles, concat):\n",
    "    filtered_vehicles = []\n",
    "\n",
    "    for vehicle in vehicles:\n",
    "        # Extract trip details\n",
    "        trip_id = vehicle.get(\"trip_id\")\n",
    "        route_id = vehicle.get(\"route_id\")\n",
    "        direction_id = vehicle.get(\"direction_id\")\n",
    "        start_time = vehicle.get(\"start_time\")\n",
    "        start_date = vehicle.get(\"start_date\")\n",
    "        schedule_relationship = vehicle.get(\"schedule_relationship\")\n",
    "        vehicle_id = vehicle.get(\"vehicle_id\")\n",
    "        latitude = vehicle.get(\"latitude\")\n",
    "        longitude = vehicle.get(\"longitude\")\n",
    "        \n",
    "        # Skip if not scheduled\n",
    "        if schedule_relationship != \"SCHEDULED\":\n",
    "            continue\n",
    "            \n",
    "        # Combine route_id and direction_id\n",
    "        combined_id = str(route_id) + str(direction_id)\n",
    "        \n",
    "        # Filter by the provided 'concat' value\n",
    "        if combined_id == concat:\n",
    "            filtered_vehicles.append({\n",
    "                \"trip_id\": trip_id,\n",
    "                \"route_id\": route_id,\n",
    "                \"direction_id\": direction_id,\n",
    "                \"vehicle_id\": vehicle_id,\n",
    "                \"start_time\": start_time,\n",
    "                \"start_date\": start_date,\n",
    "                \"latitude\": latitude,\n",
    "                \"longitude\": longitude,\n",
    "                \"timestamp\": vehicle.get(\"timestamp\")\n",
    "            })\n",
    "                \n",
    "    return pd.DataFrame(filtered_vehicles)"
   ]
  },
  {
   "cell_type": "code",
   "execution_count": null,
   "metadata": {},
   "outputs": [],
   "source": [
    "concat = ''"
   ]
  },
  {
   "cell_type": "code",
   "execution_count": 45,
   "metadata": {},
   "outputs": [
    {
     "name": "stdout",
     "output_type": "stream",
     "text": [
      "⚠️ 'timestamp' column is missing, unable to sort.\n",
      "⚠️ No vehicles found for the specified 'concat' filter.\n"
     ]
    }
   ],
   "source": [
    "# Process and filter the data\n",
    "if vehicles:\n",
    "    filtered_vehicles = process_vehicles_data(vehicles, concat)\n",
    "\n",
    "    # Check if the timestamp column exists before sorting\n",
    "    if 'timestamp' in filtered_vehicles.columns:\n",
    "        filtered_vehicles = filtered_vehicles.sort_values(by=\"timestamp\", ascending=True).reset_index(drop=True)\n",
    "    else:\n",
    "        print(\"⚠️ 'timestamp' column is missing, unable to sort.\")\n",
    "    \n",
    "    if filtered_vehicles.empty:\n",
    "        print(\"⚠️ No vehicles found for the specified 'concat' filter.\")\n",
    "    else:\n",
    "        print(\"✅ Filtered vehicles data:\")\n",
    "        print(filtered_vehicles)"
   ]
  },
  {
   "cell_type": "code",
   "execution_count": 46,
   "metadata": {},
   "outputs": [
    {
     "name": "stdout",
     "output_type": "stream",
     "text": [
      "Buses operating route 302. Route 302 towards \n"
     ]
    },
    {
     "data": {
      "text/html": [
       "<div>\n",
       "<style scoped>\n",
       "    .dataframe tbody tr th:only-of-type {\n",
       "        vertical-align: middle;\n",
       "    }\n",
       "\n",
       "    .dataframe tbody tr th {\n",
       "        vertical-align: top;\n",
       "    }\n",
       "\n",
       "    .dataframe thead th {\n",
       "        text-align: right;\n",
       "    }\n",
       "</style>\n",
       "<table border=\"1\" class=\"dataframe\">\n",
       "  <thead>\n",
       "    <tr style=\"text-align: right;\">\n",
       "      <th></th>\n",
       "    </tr>\n",
       "  </thead>\n",
       "  <tbody>\n",
       "  </tbody>\n",
       "</table>\n",
       "</div>"
      ],
      "text/plain": [
       "Empty DataFrame\n",
       "Columns: []\n",
       "Index: []"
      ]
     },
     "execution_count": 46,
     "metadata": {},
     "output_type": "execute_result"
    }
   ],
   "source": [
    "print(\"Buses operating route {} towards {}\".format(route_name, trip_headsign))\n",
    "filtered_vehicles"
   ]
  }
 ],
 "metadata": {
  "kernelspec": {
   "display_name": ".venv",
   "language": "python",
   "name": "python3"
  },
  "language_info": {
   "codemirror_mode": {
    "name": "ipython",
    "version": 3
   },
   "file_extension": ".py",
   "mimetype": "text/x-python",
   "name": "python",
   "nbconvert_exporter": "python",
   "pygments_lexer": "ipython3",
   "version": "3.11.9"
  }
 },
 "nbformat": 4,
 "nbformat_minor": 2
}
